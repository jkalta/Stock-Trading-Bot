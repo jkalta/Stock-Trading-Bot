{
 "cells": [
  {
   "cell_type": "code",
   "execution_count": 1,
   "id": "306d7fb7-9ad6-43f9-9e65-2113b5f6912b",
   "metadata": {},
   "outputs": [],
   "source": [
    "import setup\n",
    "setup.init_django()"
   ]
  },
  {
   "cell_type": "code",
   "execution_count": 2,
   "id": "53febc3c-79f2-45fd-8825-9a566181d1f0",
   "metadata": {},
   "outputs": [],
   "source": [
    "from market.models import *"
   ]
  },
  {
   "cell_type": "code",
   "execution_count": 3,
   "id": "1057f2cc-03e2-4f39-a6f9-9bb7f45e8502",
   "metadata": {},
   "outputs": [
    {
     "data": {
      "text/plain": [
       "4"
      ]
     },
     "execution_count": 3,
     "metadata": {},
     "output_type": "execute_result"
    }
   ],
   "source": [
    "qs = Company.objects.filter(active=True)\n",
    "qs.count()"
   ]
  },
  {
   "cell_type": "code",
   "execution_count": 4,
   "id": "c7bbf8c2-c1e1-4cdc-a255-b48603b7835a",
   "metadata": {},
   "outputs": [],
   "source": [
    "obj, created = Company.objects.get_or_create(name='Meta', ticker='META')\n",
    "obj.save()"
   ]
  },
  {
   "cell_type": "code",
   "execution_count": 8,
   "id": "8cdf893f-f60d-40a9-93c1-4bb30dbbd1f8",
   "metadata": {},
   "outputs": [
    {
     "data": {
      "text/plain": [
       "0"
      ]
     },
     "execution_count": 8,
     "metadata": {},
     "output_type": "execute_result"
    }
   ],
   "source": [
    "stocks = StockQuote.objects.all()\n",
    "stocks.count()"
   ]
  },
  {
   "cell_type": "code",
   "execution_count": 9,
   "id": "db3290b8-1c60-43d1-83f5-2f25b00e5a81",
   "metadata": {},
   "outputs": [],
   "source": [
    "start_from_scratch = False\n",
    "if start_from_scratch:\n",
    "    stocks.delete()"
   ]
  },
  {
   "cell_type": "code",
   "execution_count": 10,
   "id": "ee529a99-badc-4c65-a5d7-b6ef1d63ee47",
   "metadata": {},
   "outputs": [],
   "source": [
    "from market import tasks as market_tasks"
   ]
  },
  {
   "cell_type": "code",
   "execution_count": 11,
   "id": "56ba0930-2153-4cc3-8141-a29848c31da8",
   "metadata": {},
   "outputs": [
    {
     "data": {
      "text/plain": [
       "<AsyncResult: 1c1adb4c-df61-45ec-963f-cfb130d704a9>"
      ]
     },
     "execution_count": 11,
     "metadata": {},
     "output_type": "execute_result"
    }
   ],
   "source": [
    "market_tasks.sync_stock_data.delay()"
   ]
  },
  {
   "cell_type": "code",
   "execution_count": 14,
   "id": "3147450c-d6a4-4cba-8d75-3aa0e14feb88",
   "metadata": {},
   "outputs": [
    {
     "data": {
      "text/plain": [
       "13135"
      ]
     },
     "execution_count": 14,
     "metadata": {},
     "output_type": "execute_result"
    }
   ],
   "source": [
    "StockQuote.objects.all().count()"
   ]
  },
  {
   "cell_type": "code",
   "execution_count": null,
   "id": "639c722e-f11f-4fae-82bf-ff9c9ff4a75f",
   "metadata": {},
   "outputs": [],
   "source": []
  }
 ],
 "metadata": {
  "kernelspec": {
   "display_name": "Python 3 (ipykernel)",
   "language": "python",
   "name": "python3"
  },
  "language_info": {
   "codemirror_mode": {
    "name": "ipython",
    "version": 3
   },
   "file_extension": ".py",
   "mimetype": "text/x-python",
   "name": "python",
   "nbconvert_exporter": "python",
   "pygments_lexer": "ipython3",
   "version": "3.12.4"
  }
 },
 "nbformat": 4,
 "nbformat_minor": 5
}
