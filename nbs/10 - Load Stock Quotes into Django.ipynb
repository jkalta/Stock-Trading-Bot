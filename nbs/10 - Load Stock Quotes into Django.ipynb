{
 "cells": [
  {
   "cell_type": "code",
   "execution_count": 1,
   "id": "306d7fb7-9ad6-43f9-9e65-2113b5f6912b",
   "metadata": {},
   "outputs": [],
   "source": [
    "import setup\n",
    "setup.init_django()"
   ]
  },
  {
   "cell_type": "code",
   "execution_count": 2,
   "id": "53febc3c-79f2-45fd-8825-9a566181d1f0",
   "metadata": {},
   "outputs": [],
   "source": [
    "import helpers.clients as helper_clients"
   ]
  },
  {
   "cell_type": "code",
   "execution_count": 3,
   "id": "f49341e3-3eca-435e-a35f-107df930f486",
   "metadata": {},
   "outputs": [],
   "source": [
    "company_name = \"Apple\"\n",
    "company_ticker = \"AAPL\"\n",
    "multiplier = 1\n",
    "from_date = \"2024-01-09\"\n",
    "to_date = \"2024-01-09\""
   ]
  },
  {
   "cell_type": "code",
   "execution_count": 4,
   "id": "b3914740-12fa-4bfc-bc2d-59639fc4d74b",
   "metadata": {},
   "outputs": [],
   "source": [
    "client = helper_clients.PolygonAPIClient(\n",
    "    ticker=company_ticker,\n",
    "    multiplier=multiplier,\n",
    "    from_date=from_date,\n",
    "    to_date=to_date\n",
    ")\n",
    "dataset = client.get_stock_data()"
   ]
  },
  {
   "cell_type": "code",
   "execution_count": 5,
   "id": "9d54be53-edda-4f90-9e7d-8b57d6040d2c",
   "metadata": {},
   "outputs": [
    {
     "data": {
      "text/plain": [
       "{'open_price': 185.34,\n",
       " 'close_price': 185,\n",
       " 'high_price': 185.34,\n",
       " 'low_price': 184.97,\n",
       " 'number_of_trades': 106,\n",
       " 'volume': 1726,\n",
       " 'volume_weighted_average': 185.0991,\n",
       " 'time': datetime.datetime(2024, 1, 9, 9, 0, tzinfo=<UTC>)}"
      ]
     },
     "execution_count": 5,
     "metadata": {},
     "output_type": "execute_result"
    }
   ],
   "source": [
    "new_stock_data = dataset[0]\n",
    "new_stock_data"
   ]
  },
  {
   "cell_type": "code",
   "execution_count": 6,
   "id": "d1692614-3768-4651-85cd-d4f9bfce445b",
   "metadata": {},
   "outputs": [],
   "source": [
    "from market.models import Company, StockQuote"
   ]
  },
  {
   "cell_type": "code",
   "execution_count": 7,
   "id": "d125aadd-8291-42d4-a3a9-3989bcb4ade8",
   "metadata": {},
   "outputs": [],
   "source": [
    "company_obj, created = Company.objects.get_or_create(name=company_name, ticker=company_ticker)"
   ]
  },
  {
   "cell_type": "code",
   "execution_count": 8,
   "id": "91bbcbb9-3797-45cb-ac81-6fd7cee55d15",
   "metadata": {},
   "outputs": [
    {
     "data": {
      "text/plain": [
       "<Company: Company object (1)>"
      ]
     },
     "execution_count": 8,
     "metadata": {},
     "output_type": "execute_result"
    }
   ],
   "source": [
    "company_obj"
   ]
  },
  {
   "cell_type": "code",
   "execution_count": null,
   "id": "32510c6e-ab0b-4993-afd4-144a81c57bd7",
   "metadata": {
    "scrolled": true
   },
   "outputs": [],
   "source": [
    "StockQuote.objects.create(company=company_obj, **new_stock_data)"
   ]
  },
  {
   "cell_type": "code",
   "execution_count": null,
   "id": "3f10345b-09d6-4745-967e-7a9d12a14e5c",
   "metadata": {},
   "outputs": [],
   "source": []
  }
 ],
 "metadata": {
  "kernelspec": {
   "display_name": "Python 3 (ipykernel)",
   "language": "python",
   "name": "python3"
  },
  "language_info": {
   "codemirror_mode": {
    "name": "ipython",
    "version": 3
   },
   "file_extension": ".py",
   "mimetype": "text/x-python",
   "name": "python",
   "nbconvert_exporter": "python",
   "pygments_lexer": "ipython3",
   "version": "3.12.4"
  }
 },
 "nbformat": 4,
 "nbformat_minor": 5
}
