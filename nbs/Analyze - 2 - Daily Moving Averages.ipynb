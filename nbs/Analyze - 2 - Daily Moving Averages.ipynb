{
 "cells": [
  {
   "cell_type": "code",
   "execution_count": 2,
   "id": "306d7fb7-9ad6-43f9-9e65-2113b5f6912b",
   "metadata": {},
   "outputs": [],
   "source": [
    "import setup\n",
    "setup.init_django()"
   ]
  },
  {
   "cell_type": "code",
   "execution_count": 3,
   "id": "53febc3c-79f2-45fd-8825-9a566181d1f0",
   "metadata": {},
   "outputs": [],
   "source": [
    "from market.models import StockQuote"
   ]
  },
  {
   "cell_type": "code",
   "execution_count": 4,
   "id": "4eaf2504-f0a2-4d7b-b01b-edd0612ba09d",
   "metadata": {},
   "outputs": [],
   "source": [
    "from django.db.models import Avg, F, RowRange, Window, Max\n",
    "from django.db.models.functions import TruncDate\n",
    "from django.utils import timezone\n",
    "from datetime import timedelta\n",
    "from decimal import Decimal"
   ]
  },
  {
   "cell_type": "code",
   "execution_count": 5,
   "id": "8cdf893f-f60d-40a9-93c1-4bb30dbbd1f8",
   "metadata": {},
   "outputs": [
    {
     "data": {
      "text/plain": [
       "12741"
      ]
     },
     "execution_count": 5,
     "metadata": {},
     "output_type": "execute_result"
    }
   ],
   "source": [
    "days_ago = 30\n",
    "now = timezone.now()\n",
    "start_date = now - timedelta(days=30)\n",
    "end_date = now\n",
    "\n",
    "qs = StockQuote.objects.filter(time__range=(start_date, end_date))\n",
    "qs.count()"
   ]
  },
  {
   "cell_type": "code",
   "execution_count": 6,
   "id": "639c722e-f11f-4fae-82bf-ff9c9ff4a75f",
   "metadata": {},
   "outputs": [],
   "source": [
    "total = 0\n",
    "for obj in qs:\n",
    "    total += obj.close_price"
   ]
  },
  {
   "cell_type": "code",
   "execution_count": 7,
   "id": "2cd222b0-de52-44d3-bb39-db33c82dae76",
   "metadata": {},
   "outputs": [
    {
     "data": {
      "text/plain": [
       "Decimal('370.6656873322345184836355074')"
      ]
     },
     "execution_count": 7,
     "metadata": {},
     "output_type": "execute_result"
    }
   ],
   "source": [
    "total / qs.count()"
   ]
  },
  {
   "cell_type": "code",
   "execution_count": 8,
   "id": "9ce6fa5d-a834-440f-af6e-2b3c43269b0d",
   "metadata": {},
   "outputs": [
    {
     "data": {
      "text/plain": [
       "<QuerySet [{'company': 3, 'avg_price': Decimal('634.6686316516709512')}, {'company': 5, 'avg_price': Decimal('428.7963671246006390')}, {'company': 2, 'avg_price': Decimal('197.2389634726688103')}, {'company': 1, 'avg_price': Decimal('233.7022529064620832')}]>"
      ]
     },
     "execution_count": 8,
     "metadata": {},
     "output_type": "execute_result"
    }
   ],
   "source": [
    "qs.values('company').annotate(avg_price=Avg('close_price'))"
   ]
  },
  {
   "cell_type": "code",
   "execution_count": 9,
   "id": "4ffacf77-3c8c-4777-9cbe-1c9f1b99593b",
   "metadata": {},
   "outputs": [],
   "source": [
    "count = 5\n",
    "ticker = \"AAPL\"\n",
    "rolling_qs = list(qs.filter(company__ticker=ticker).order_by('-time')[:count])\n",
    "rolling_qs.reverse()"
   ]
  },
  {
   "cell_type": "code",
   "execution_count": 10,
   "id": "3da0892b-7370-40bf-a42c-716fae48c92c",
   "metadata": {},
   "outputs": [
    {
     "data": {
      "text/plain": [
       "[<StockQuote: StockQuote object (2921291)>,\n",
       " <StockQuote: StockQuote object (2921292)>,\n",
       " <StockQuote: StockQuote object (2921293)>,\n",
       " <StockQuote: StockQuote object (2921294)>,\n",
       " <StockQuote: StockQuote object (2921295)>]"
      ]
     },
     "execution_count": 10,
     "metadata": {},
     "output_type": "execute_result"
    }
   ],
   "source": [
    "rolling_qs"
   ]
  },
  {
   "cell_type": "code",
   "execution_count": 11,
   "id": "e27fc379-5cf2-460f-b748-b41ab23778f8",
   "metadata": {},
   "outputs": [
    {
     "name": "stdout",
     "output_type": "stream",
     "text": [
      "1 2921291 234.6501 234.6501\n",
      "2 2921292 234.2512 234.45065\n",
      "3 2921293 234.2700 234.3904333333333333333333333\n",
      "4 2921294 234.2400 234.352825\n",
      "5 2921295 233.9200 234.26626\n"
     ]
    }
   ],
   "source": [
    "total = 0\n",
    "for i, obj in enumerate(rolling_qs):\n",
    "    total += obj.close_price\n",
    "    avg = total / (i + 1)\n",
    "    print(i + 1, obj.id, obj.close_price, avg)"
   ]
  },
  {
   "cell_type": "code",
   "execution_count": 24,
   "id": "f41d992b-91ba-42dc-9076-1ecfc98ccb22",
   "metadata": {
    "scrolled": true
   },
   "outputs": [
    {
     "data": {
      "text/plain": [
       "[datetime.datetime(2024, 11, 25, 23, 55, tzinfo=datetime.timezone.utc),\n",
       " datetime.datetime(2024, 11, 26, 23, 55, tzinfo=datetime.timezone.utc),\n",
       " datetime.datetime(2024, 11, 27, 23, 55, tzinfo=datetime.timezone.utc),\n",
       " datetime.datetime(2024, 11, 28, 0, 55, tzinfo=datetime.timezone.utc),\n",
       " datetime.datetime(2024, 11, 29, 21, 55, tzinfo=datetime.timezone.utc),\n",
       " datetime.datetime(2024, 12, 2, 23, 55, tzinfo=datetime.timezone.utc),\n",
       " datetime.datetime(2024, 12, 3, 23, 55, tzinfo=datetime.timezone.utc),\n",
       " datetime.datetime(2024, 12, 4, 23, 50, tzinfo=datetime.timezone.utc),\n",
       " datetime.datetime(2024, 12, 5, 23, 55, tzinfo=datetime.timezone.utc),\n",
       " datetime.datetime(2024, 12, 6, 23, 50, tzinfo=datetime.timezone.utc),\n",
       " datetime.datetime(2024, 12, 7, 0, 55, tzinfo=datetime.timezone.utc),\n",
       " datetime.datetime(2024, 12, 9, 23, 55, tzinfo=datetime.timezone.utc),\n",
       " datetime.datetime(2024, 12, 10, 23, 55, tzinfo=datetime.timezone.utc),\n",
       " datetime.datetime(2024, 12, 11, 23, 55, tzinfo=datetime.timezone.utc),\n",
       " datetime.datetime(2024, 12, 12, 23, 55, tzinfo=datetime.timezone.utc),\n",
       " datetime.datetime(2024, 12, 13, 23, 55, tzinfo=datetime.timezone.utc),\n",
       " datetime.datetime(2024, 12, 14, 0, 55, tzinfo=datetime.timezone.utc),\n",
       " datetime.datetime(2024, 12, 16, 23, 55, tzinfo=datetime.timezone.utc),\n",
       " datetime.datetime(2024, 12, 17, 23, 50, tzinfo=datetime.timezone.utc),\n",
       " datetime.datetime(2024, 12, 18, 23, 55, tzinfo=datetime.timezone.utc),\n",
       " datetime.datetime(2024, 12, 19, 23, 45, tzinfo=datetime.timezone.utc),\n",
       " datetime.datetime(2024, 12, 20, 23, 55, tzinfo=datetime.timezone.utc),\n",
       " datetime.datetime(2024, 12, 21, 0, 55, tzinfo=datetime.timezone.utc),\n",
       " datetime.datetime(2024, 12, 23, 23, 50, tzinfo=datetime.timezone.utc),\n",
       " datetime.datetime(2024, 12, 24, 21, 55, tzinfo=datetime.timezone.utc),\n",
       " datetime.datetime(2024, 12, 26, 23, 55, tzinfo=datetime.timezone.utc),\n",
       " datetime.datetime(2024, 12, 27, 23, 55, tzinfo=datetime.timezone.utc),\n",
       " datetime.datetime(2024, 12, 28, 0, 55, tzinfo=datetime.timezone.utc),\n",
       " datetime.datetime(2024, 12, 30, 23, 55, tzinfo=datetime.timezone.utc),\n",
       " datetime.datetime(2024, 12, 31, 23, 50, tzinfo=datetime.timezone.utc),\n",
       " datetime.datetime(2025, 1, 1, 0, 55, tzinfo=datetime.timezone.utc),\n",
       " datetime.datetime(2025, 1, 2, 23, 55, tzinfo=datetime.timezone.utc),\n",
       " datetime.datetime(2025, 1, 3, 23, 55, tzinfo=datetime.timezone.utc),\n",
       " datetime.datetime(2025, 1, 4, 0, 55, tzinfo=datetime.timezone.utc),\n",
       " datetime.datetime(2025, 1, 6, 23, 55, tzinfo=datetime.timezone.utc),\n",
       " datetime.datetime(2025, 1, 7, 23, 55, tzinfo=datetime.timezone.utc),\n",
       " datetime.datetime(2025, 1, 8, 23, 55, tzinfo=datetime.timezone.utc),\n",
       " datetime.datetime(2025, 1, 9, 0, 55, tzinfo=datetime.timezone.utc),\n",
       " datetime.datetime(2025, 1, 10, 23, 55, tzinfo=datetime.timezone.utc),\n",
       " datetime.datetime(2025, 1, 11, 0, 55, tzinfo=datetime.timezone.utc),\n",
       " datetime.datetime(2025, 1, 13, 23, 55, tzinfo=datetime.timezone.utc),\n",
       " datetime.datetime(2025, 1, 14, 23, 55, tzinfo=datetime.timezone.utc),\n",
       " datetime.datetime(2025, 1, 15, 23, 55, tzinfo=datetime.timezone.utc),\n",
       " datetime.datetime(2025, 1, 16, 23, 55, tzinfo=datetime.timezone.utc),\n",
       " datetime.datetime(2025, 1, 17, 23, 55, tzinfo=datetime.timezone.utc),\n",
       " datetime.datetime(2025, 1, 18, 0, 55, tzinfo=datetime.timezone.utc),\n",
       " datetime.datetime(2025, 1, 21, 23, 55, tzinfo=datetime.timezone.utc),\n",
       " datetime.datetime(2025, 1, 22, 23, 55, tzinfo=datetime.timezone.utc),\n",
       " datetime.datetime(2025, 1, 23, 23, 55, tzinfo=datetime.timezone.utc),\n",
       " datetime.datetime(2025, 1, 24, 23, 55, tzinfo=datetime.timezone.utc),\n",
       " datetime.datetime(2025, 1, 25, 0, 55, tzinfo=datetime.timezone.utc),\n",
       " datetime.datetime(2025, 1, 27, 23, 55, tzinfo=datetime.timezone.utc),\n",
       " datetime.datetime(2025, 1, 28, 23, 55, tzinfo=datetime.timezone.utc),\n",
       " datetime.datetime(2025, 1, 29, 23, 55, tzinfo=datetime.timezone.utc),\n",
       " datetime.datetime(2025, 1, 30, 23, 55, tzinfo=datetime.timezone.utc),\n",
       " datetime.datetime(2025, 1, 31, 23, 55, tzinfo=datetime.timezone.utc),\n",
       " datetime.datetime(2025, 2, 1, 0, 55, tzinfo=datetime.timezone.utc)]"
      ]
     },
     "execution_count": 24,
     "metadata": {},
     "output_type": "execute_result"
    }
   ],
   "source": [
    "latest_daily_timestamps = (\n",
    "    StockQuote.objects.filter(company__ticker=ticker, time__range=(start_date - timedelta(days=40), end_date))\n",
    "    .annotate(date=TruncDate('time'))\n",
    "    .values('company', 'date')\n",
    "    .annotate(latest_time=Max('time'))\n",
    "    .values('company', 'date', 'latest_time')\n",
    "    .order_by('date')\n",
    ")\n",
    "\n",
    "actual_timestamps = [x['latest_time'] for x in latest_daily_timestamps]\n",
    "actual_timestamps"
   ]
  },
  {
   "cell_type": "code",
   "execution_count": 26,
   "id": "80e44d5f-c98a-4f5d-9a61-5fe36904aeab",
   "metadata": {},
   "outputs": [],
   "source": [
    "qs = StockQuote.objects.filter(\n",
    "    company__ticker=ticker, \n",
    "    time__range=(start_date, end_date),\n",
    "    time__in=actual_timestamps\n",
    ")"
   ]
  },
  {
   "cell_type": "code",
   "execution_count": 27,
   "id": "ed139f00-0b00-44fc-b634-f0f26e10b498",
   "metadata": {},
   "outputs": [],
   "source": [
    "frame_start = -(count - 1)\n",
    "ma_val = qs.annotate(\n",
    "        ma=Window(\n",
    "            expression=Avg('close_price'),\n",
    "            order_by=F('time').asc(),\n",
    "            partition_by=[],\n",
    "            frame=RowRange(start=frame_start, end=0),\n",
    "        )\n",
    ").order_by('-time')"
   ]
  },
  {
   "cell_type": "code",
   "execution_count": 29,
   "id": "6b65e85e-3fba-440b-a5aa-c77767e3a3ec",
   "metadata": {},
   "outputs": [
    {
     "name": "stdout",
     "output_type": "stream",
     "text": [
      "2921295 233.9200 238.0480600000000000 2025-02-01 00:55:00+00:00\n",
      "2921283 234.9202 237.2189600000000000 2025-01-31 23:55:00+00:00\n",
      "2921091 245.0000 234.6689200000000000 2025-01-30 23:55:00+00:00\n",
      "2925761 238.8001 230.0989200000000000 2025-01-29 23:55:00+00:00\n",
      "2925569 237.6000 226.9899000000000000 2025-01-28 23:55:00+00:00\n"
     ]
    }
   ],
   "source": [
    "for obj in ma_val[:5]:\n",
    "    print(obj.id, obj.close_price, obj.ma, obj.time)"
   ]
  },
  {
   "cell_type": "code",
   "execution_count": 30,
   "id": "b2322300-d0a2-4ee2-848b-79df69bc76ba",
   "metadata": {},
   "outputs": [
    {
     "data": {
      "text/plain": [
       "(2921295,\n",
       " Decimal('233.9200'),\n",
       " Decimal('238.0480600000000000'),\n",
       " Decimal('232.2073300000000000'))"
      ]
     },
     "execution_count": 30,
     "metadata": {},
     "output_type": "execute_result"
    }
   ],
   "source": [
    "frame_start = -(count - 1)\n",
    "ma_vals = qs.annotate(\n",
    "        ma_5=Window(\n",
    "            expression=Avg('close_price'),\n",
    "            order_by=F('time').asc(),\n",
    "            partition_by=[],\n",
    "            frame=RowRange(start=-4, end=0),\n",
    "        ),\n",
    "        ma_20=Window(\n",
    "                expression=Avg('close_price'),\n",
    "                order_by=F('time').asc(),\n",
    "                partition_by=[],\n",
    "                frame=RowRange(start=-19, end=0),\n",
    "            )\n",
    ").order_by('-time').first()\n",
    "\n",
    "ma_vals.id, ma_vals.close_price, ma_vals.ma_5, ma_vals.ma_20"
   ]
  },
  {
   "cell_type": "code",
   "execution_count": null,
   "id": "ffcf2c23-cc54-4887-aa84-1abd21323b9f",
   "metadata": {},
   "outputs": [],
   "source": []
  }
 ],
 "metadata": {
  "kernelspec": {
   "display_name": "Python 3 (ipykernel)",
   "language": "python",
   "name": "python3"
  },
  "language_info": {
   "codemirror_mode": {
    "name": "ipython",
    "version": 3
   },
   "file_extension": ".py",
   "mimetype": "text/x-python",
   "name": "python",
   "nbconvert_exporter": "python",
   "pygments_lexer": "ipython3",
   "version": "3.12.4"
  }
 },
 "nbformat": 4,
 "nbformat_minor": 5
}
