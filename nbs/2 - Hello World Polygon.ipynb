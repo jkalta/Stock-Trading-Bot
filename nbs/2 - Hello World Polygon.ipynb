{
 "cells": [
  {
   "cell_type": "code",
   "execution_count": 2,
   "id": "f44e502a-ada6-4fbb-9b5a-872909f10a5e",
   "metadata": {},
   "outputs": [],
   "source": [
    "from decouple import config"
   ]
  },
  {
   "cell_type": "code",
   "execution_count": 3,
   "id": "54ebd6f0-24cd-4a0e-9c10-792d601f80b3",
   "metadata": {},
   "outputs": [],
   "source": [
    "assert config(\"POLYGON_API_KEY\", default=None, cast=str) is not None"
   ]
  },
  {
   "cell_type": "code",
   "execution_count": 4,
   "id": "534b539b-d394-4a99-8798-49a6342a11d6",
   "metadata": {},
   "outputs": [],
   "source": [
    "POLYGON_API_KEY = config(\"POLYGON_API_KEY\", default=None, cast=str)"
   ]
  },
  {
   "cell_type": "code",
   "execution_count": 5,
   "id": "170d2038-ec09-4c40-b683-23e1cf5268c7",
   "metadata": {},
   "outputs": [],
   "source": [
    "import requests"
   ]
  },
  {
   "cell_type": "code",
   "execution_count": 17,
   "id": "a56925c7-a5d0-4fda-9f8f-5584f6943c98",
   "metadata": {},
   "outputs": [],
   "source": [
    "ticker = \"AAPL\"\n",
    "multiplier = \"1\"\n",
    "timespan = \"day\"\n",
    "from_date = \"2024-01-09\"\n",
    "to_date = \"2024-01-09\"\n",
    "path = f\"/v2/aggs/ticker/{ticker}/range/{multiplier}/{timespan}/{from_date}/{to_date}\"\n",
    "url = f\"https://api.polygon.io{path}?apiKey={POLYGON_API_KEY}\""
   ]
  },
  {
   "cell_type": "code",
   "execution_count": null,
   "id": "9f93c708-8af2-4cf4-928e-164ba9ab2336",
   "metadata": {},
   "outputs": [],
   "source": [
    "url2 = \"https://api.polygon.io/v2/aggs/ticker/AAPL/range/1/day/2024-01-09/2024-02-10?adjusted=true&sort=asc&apiKey=Nncv6HAcUUwdNG9c_AZu5ckVrQVdpK7n\""
   ]
  },
  {
   "cell_type": "code",
   "execution_count": 13,
   "id": "2008d8d0-703f-4b61-b032-527880280dac",
   "metadata": {},
   "outputs": [],
   "source": [
    "response = requests.get(url)"
   ]
  },
  {
   "cell_type": "code",
   "execution_count": 14,
   "id": "f3d2c57e-6a61-4bfa-afbf-74a5ef4abccc",
   "metadata": {},
   "outputs": [],
   "source": [
    "data = response.json()"
   ]
  },
  {
   "cell_type": "code",
   "execution_count": 15,
   "id": "dca5586c-4d4c-4d2d-8c5b-7e933d86cf0f",
   "metadata": {},
   "outputs": [
    {
     "data": {
      "text/plain": [
       "{'ticker': 'AAPL',\n",
       " 'queryCount': 1,\n",
       " 'resultsCount': 1,\n",
       " 'adjusted': True,\n",
       " 'results': [{'v': 42841809.0,\n",
       "   'vw': 184.3706,\n",
       "   'o': 183.92,\n",
       "   'c': 185.14,\n",
       "   'h': 185.15,\n",
       "   'l': 182.73,\n",
       "   't': 1704776400000,\n",
       "   'n': 538180}],\n",
       " 'status': 'OK',\n",
       " 'request_id': '069a994e6435da4da869dc08c500bca5',\n",
       " 'count': 1}"
      ]
     },
     "execution_count": 15,
     "metadata": {},
     "output_type": "execute_result"
    }
   ],
   "source": [
    "data"
   ]
  },
  {
   "cell_type": "code",
   "execution_count": null,
   "id": "32689cbc-12ee-4eaa-88d3-a91a0a253ce6",
   "metadata": {},
   "outputs": [],
   "source": []
  }
 ],
 "metadata": {
  "kernelspec": {
   "display_name": "Python 3 (ipykernel)",
   "language": "python",
   "name": "python3"
  },
  "language_info": {
   "codemirror_mode": {
    "name": "ipython",
    "version": 3
   },
   "file_extension": ".py",
   "mimetype": "text/x-python",
   "name": "python",
   "nbconvert_exporter": "python",
   "pygments_lexer": "ipython3",
   "version": "3.12.4"
  }
 },
 "nbformat": 4,
 "nbformat_minor": 5
}
