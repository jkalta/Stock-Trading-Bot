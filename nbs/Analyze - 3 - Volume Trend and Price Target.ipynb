{
 "cells": [
  {
   "cell_type": "code",
   "execution_count": 2,
   "id": "306d7fb7-9ad6-43f9-9e65-2113b5f6912b",
   "metadata": {},
   "outputs": [],
   "source": [
    "import setup\n",
    "setup.init_django()"
   ]
  },
  {
   "cell_type": "code",
   "execution_count": 3,
   "id": "53febc3c-79f2-45fd-8825-9a566181d1f0",
   "metadata": {},
   "outputs": [],
   "source": [
    "from market.models import StockQuote"
   ]
  },
  {
   "cell_type": "code",
   "execution_count": 22,
   "id": "4eaf2504-f0a2-4d7b-b01b-edd0612ba09d",
   "metadata": {},
   "outputs": [],
   "source": [
    "from django.db.models import Avg, F, RowRange, Window, Max, Min\n",
    "from django.db.models.functions import TruncDate, FirstValue\n",
    "from django.utils import timezone\n",
    "from datetime import timedelta\n",
    "from decimal import Decimal"
   ]
  },
  {
   "cell_type": "code",
   "execution_count": 5,
   "id": "8cdf893f-f60d-40a9-93c1-4bb30dbbd1f8",
   "metadata": {},
   "outputs": [],
   "source": [
    "days_ago = 30\n",
    "now = timezone.now()\n",
    "start_date = now - timedelta(days=30)\n",
    "end_date = now\n",
    "ticker=\"AAPL\""
   ]
  },
  {
   "cell_type": "code",
   "execution_count": 10,
   "id": "f41d992b-91ba-42dc-9076-1ecfc98ccb22",
   "metadata": {
    "scrolled": true
   },
   "outputs": [
    {
     "data": {
      "text/plain": [
       "57"
      ]
     },
     "execution_count": 10,
     "metadata": {},
     "output_type": "execute_result"
    }
   ],
   "source": [
    "latest_daily_timestamps = (\n",
    "    StockQuote.timescale.filter(company__ticker=ticker, time__range=(start_date - timedelta(days=40), end_date))\n",
    "    .time_bucket('time', '1 day')\n",
    "    .annotate(date=TruncDate('time'))\n",
    "    .values('company', 'date')\n",
    "    .annotate(latest_time=Max('time'))\n",
    "    .values('company', 'date', 'latest_time')\n",
    "    .order_by('date')\n",
    ")\n",
    "\n",
    "actual_timestamps = list(set([x['latest_time'] for x in latest_daily_timestamps]))\n",
    "len(actual_timestamps)"
   ]
  },
  {
   "cell_type": "code",
   "execution_count": 11,
   "id": "80e44d5f-c98a-4f5d-9a61-5fe36904aeab",
   "metadata": {},
   "outputs": [],
   "source": [
    "qs = StockQuote.objects.filter(\n",
    "    company__ticker=ticker, \n",
    "    time__range=(start_date, end_date),\n",
    "    time__in=actual_timestamps\n",
    ")"
   ]
  },
  {
   "cell_type": "code",
   "execution_count": 12,
   "id": "f5a790ab-b7b1-426a-9419-db68709d8a10",
   "metadata": {},
   "outputs": [],
   "source": [
    "def get_volume_trend(queryset, days=5):\n",
    "    \"\"\"\n",
    "    Analyze recent volume trends\n",
    "    \"\"\"\n",
    "    start = -(days - 1)\n",
    "    data = queryset.annotate(\n",
    "            avg_volume=Window(\n",
    "                expression=Avg('volume'),\n",
    "                order_by=F('time').asc(),\n",
    "                partition_by=[],\n",
    "                frame=RowRange(start=start, end=0),\n",
    "            )\n",
    "    ).order_by('-time').first()\n",
    "\n",
    "    if not data:\n",
    "        return None\n",
    "    volume_change = ((data.volume - data.avg_volume) / data.avg_volume) * 100\n",
    "    return {\n",
    "        'avg_volume': float(data.avg_volume),\n",
    "        'latest_volume': int(data.volume),\n",
    "        'volume_change_percent': float(volume_change)\n",
    "    }"
   ]
  },
  {
   "cell_type": "code",
   "execution_count": 13,
   "id": "9a00dcf5-d3b5-49a3-9a07-41b4c295965c",
   "metadata": {},
   "outputs": [
    {
     "data": {
      "text/plain": [
       "{'avg_volume': 21295.0,\n",
       " 'latest_volume': 18802,\n",
       " 'volume_change_percent': -11.706973467950222}"
      ]
     },
     "execution_count": 13,
     "metadata": {},
     "output_type": "execute_result"
    }
   ],
   "source": [
    "get_volume_trend(qs)"
   ]
  },
  {
   "cell_type": "code",
   "execution_count": 23,
   "id": "62fc7719-4266-4ea3-9477-a5512eb8573c",
   "metadata": {},
   "outputs": [],
   "source": [
    "def get_simple_target(ticker, timestamps=[], days=180):\n",
    "    \"\"\"\n",
    "    Simplified price target calculation\n",
    "    \"\"\"\n",
    "    end_date = timezone.now()\n",
    "    start_date = end_date - timedelta(days=days)\n",
    "    lookups = {\n",
    "        \"company__ticker\": ticker,\n",
    "        \"time__range\": (start_date, end_date)\n",
    "    }\n",
    "    if len(timestamps) > 0:\n",
    "        lookups['time__in'] = timestamps\n",
    "    daily_data = (\n",
    "        StockQuote.timescale\n",
    "        .filter(**lookups)\n",
    "        .time_bucket('time', '1 day')\n",
    "        .annotate(\n",
    "            latest_price=Window(\n",
    "                expression=FirstValue('close_price'),\n",
    "                partition_by=[],\n",
    "                order_by=F('time').desc()\n",
    "            )\n",
    "        )\n",
    "        .aggregate(\n",
    "            current_price=Max('latest_price'),\n",
    "            avg_price=Avg('close_price'),\n",
    "            highest=Max('high_price'),\n",
    "            lowest=Min('low_price')\n",
    "        )\n",
    "    )\n",
    "\n",
    "    if not daily_data:\n",
    "        return None\n",
    "\n",
    "    current_price = float(daily_data['current_price'])\n",
    "    avg_price = float(daily_data['avg_price'])\n",
    "    price_range = float(daily_data['highest']) - float(daily_data['lowest'])\n",
    "\n",
    "    #Simple target based on average price and recent range\n",
    "    conservative_target = current_price + (price_range * 0.382) # 38.2% Fibonacci\n",
    "    aggressive_target = current_price + (price_range * 0.618) # 61.8% Fibonacci\n",
    "\n",
    "    return {\n",
    "        'current_price': current_price,\n",
    "        'conservative_target': conservative_target, \n",
    "        'aggressive_target': aggressive_target,\n",
    "        'average_price': avg_price\n",
    "    }"
   ]
  },
  {
   "cell_type": "code",
   "execution_count": 24,
   "id": "ffcf2c23-cc54-4887-aa84-1abd21323b9f",
   "metadata": {},
   "outputs": [
    {
     "data": {
      "text/plain": [
       "{'current_price': 233.92,\n",
       " 'conservative_target': 253.96354,\n",
       " 'aggressive_target': 266.34646,\n",
       " 'average_price': 231.45927325865028}"
      ]
     },
     "execution_count": 24,
     "metadata": {},
     "output_type": "execute_result"
    }
   ],
   "source": [
    "get_simple_target(\"AAPL\")"
   ]
  }
 ],
 "metadata": {
  "kernelspec": {
   "display_name": "Python 3 (ipykernel)",
   "language": "python",
   "name": "python3"
  },
  "language_info": {
   "codemirror_mode": {
    "name": "ipython",
    "version": 3
   },
   "file_extension": ".py",
   "mimetype": "text/x-python",
   "name": "python",
   "nbconvert_exporter": "python",
   "pygments_lexer": "ipython3",
   "version": "3.12.4"
  }
 },
 "nbformat": 4,
 "nbformat_minor": 5
}
