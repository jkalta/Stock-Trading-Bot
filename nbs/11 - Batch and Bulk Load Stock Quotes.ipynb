{
 "cells": [
  {
   "cell_type": "code",
   "execution_count": 1,
   "id": "306d7fb7-9ad6-43f9-9e65-2113b5f6912b",
   "metadata": {},
   "outputs": [],
   "source": [
    "import setup\n",
    "setup.init_django()"
   ]
  },
  {
   "cell_type": "code",
   "execution_count": 2,
   "id": "53febc3c-79f2-45fd-8825-9a566181d1f0",
   "metadata": {},
   "outputs": [],
   "source": [
    "import helpers.clients as helper_clients"
   ]
  },
  {
   "cell_type": "code",
   "execution_count": 29,
   "id": "f49341e3-3eca-435e-a35f-107df930f486",
   "metadata": {},
   "outputs": [],
   "source": [
    "company_name = \"Google\"\n",
    "company_ticker = \"GOOG\"\n",
    "multiplier = 1\n",
    "from_date = \"2024-01-09\"\n",
    "to_date = \"2024-04-09\""
   ]
  },
  {
   "cell_type": "code",
   "execution_count": 30,
   "id": "b3914740-12fa-4bfc-bc2d-59639fc4d74b",
   "metadata": {},
   "outputs": [],
   "source": [
    "client = helper_clients.PolygonAPIClient(\n",
    "    ticker=company_ticker,\n",
    "    multiplier=multiplier,\n",
    "    from_date=from_date,\n",
    "    to_date=to_date\n",
    ")\n",
    "dataset = client.get_stock_data()"
   ]
  },
  {
   "cell_type": "code",
   "execution_count": 31,
   "id": "28953bb9-28a2-4f2e-9372-ee2e4853680c",
   "metadata": {},
   "outputs": [
    {
     "data": {
      "text/plain": [
       "5000"
      ]
     },
     "execution_count": 31,
     "metadata": {},
     "output_type": "execute_result"
    }
   ],
   "source": [
    "len(dataset)"
   ]
  },
  {
   "cell_type": "code",
   "execution_count": 32,
   "id": "9d54be53-edda-4f90-9e7d-8b57d6040d2c",
   "metadata": {},
   "outputs": [
    {
     "data": {
      "text/plain": [
       "{'open_price': 140.41,\n",
       " 'close_price': 140.41,\n",
       " 'high_price': 140.41,\n",
       " 'low_price': 140.41,\n",
       " 'number_of_trades': 3,\n",
       " 'volume': 134,\n",
       " 'volume_weighted_average': 140.3984,\n",
       " 'time': datetime.datetime(2024, 1, 9, 9, 2, tzinfo=<UTC>)}"
      ]
     },
     "execution_count": 32,
     "metadata": {},
     "output_type": "execute_result"
    }
   ],
   "source": [
    "new_stock_data = dataset[0]\n",
    "new_stock_data"
   ]
  },
  {
   "cell_type": "code",
   "execution_count": 33,
   "id": "d1692614-3768-4651-85cd-d4f9bfce445b",
   "metadata": {},
   "outputs": [],
   "source": [
    "from market.models import Company, StockQuote"
   ]
  },
  {
   "cell_type": "code",
   "execution_count": 34,
   "id": "d125aadd-8291-42d4-a3a9-3989bcb4ade8",
   "metadata": {},
   "outputs": [],
   "source": [
    "company_obj, created = Company.objects.get_or_create(name=company_name, ticker=company_ticker)"
   ]
  },
  {
   "cell_type": "code",
   "execution_count": 35,
   "id": "91bbcbb9-3797-45cb-ac81-6fd7cee55d15",
   "metadata": {},
   "outputs": [
    {
     "data": {
      "text/plain": [
       "<Company: Company object (2)>"
      ]
     },
     "execution_count": 35,
     "metadata": {},
     "output_type": "execute_result"
    }
   ],
   "source": [
    "company_obj"
   ]
  },
  {
   "cell_type": "code",
   "execution_count": null,
   "id": "32510c6e-ab0b-4993-afd4-144a81c57bd7",
   "metadata": {},
   "outputs": [],
   "source": [
    "# StockQuote.objects.bulk_create(company=company_obj, **new_stock_data)"
   ]
  },
  {
   "cell_type": "code",
   "execution_count": 9,
   "id": "3f10345b-09d6-4745-967e-7a9d12a14e5c",
   "metadata": {},
   "outputs": [],
   "source": [
    "# new_quotes = []\n",
    "\n",
    "# for data in dataset:\n",
    "#     new_quotes.append(\n",
    "#         StockQuote(company=company_obj, **data)\n",
    "#     )"
   ]
  },
  {
   "cell_type": "code",
   "execution_count": 12,
   "id": "8bf768d8-f499-4b8e-bd34-71933c762cb0",
   "metadata": {},
   "outputs": [
    {
     "data": {
      "text/plain": [
       "<QuerySet [<StockQuote: StockQuote object (1)>, <StockQuote: StockQuote object (4)>, <StockQuote: StockQuote object (5)>, <StockQuote: StockQuote object (6)>, <StockQuote: StockQuote object (7)>, <StockQuote: StockQuote object (8)>, <StockQuote: StockQuote object (9)>, <StockQuote: StockQuote object (10)>, <StockQuote: StockQuote object (11)>, <StockQuote: StockQuote object (12)>, <StockQuote: StockQuote object (13)>, <StockQuote: StockQuote object (14)>, <StockQuote: StockQuote object (15)>, <StockQuote: StockQuote object (16)>, <StockQuote: StockQuote object (17)>, <StockQuote: StockQuote object (18)>, <StockQuote: StockQuote object (19)>, <StockQuote: StockQuote object (20)>, <StockQuote: StockQuote object (21)>, <StockQuote: StockQuote object (22)>, '...(remaining elements truncated)...']>"
      ]
     },
     "execution_count": 12,
     "metadata": {},
     "output_type": "execute_result"
    }
   ],
   "source": [
    "StockQuote.objects.all()"
   ]
  },
  {
   "cell_type": "code",
   "execution_count": 36,
   "id": "4f2882c0-dc50-4e05-a5ad-8158f5b206c9",
   "metadata": {},
   "outputs": [],
   "source": [
    "batch_size = 1000\n",
    "for i in range(0, len(dataset), batch_size):\n",
    "    batch_chunk = dataset[i:i+batch_size]\n",
    "    chunked_quotes = []\n",
    "    for data in batch_chunk:\n",
    "        chunked_quotes.append(\n",
    "            StockQuote(company=company_obj, **data)\n",
    "        )\n",
    "    StockQuote.objects.bulk_create(chunked_quotes, ignore_conflicts=True)"
   ]
  },
  {
   "cell_type": "code",
   "execution_count": 37,
   "id": "9e34eca0-cb40-4359-8855-cca4365e253f",
   "metadata": {},
   "outputs": [
    {
     "data": {
      "text/plain": [
       "10000"
      ]
     },
     "execution_count": 37,
     "metadata": {},
     "output_type": "execute_result"
    }
   ],
   "source": [
    "StockQuote.objects.all().count()"
   ]
  },
  {
   "cell_type": "code",
   "execution_count": null,
   "id": "207baf0d-ec1d-4fef-875a-b93e347c634a",
   "metadata": {},
   "outputs": [],
   "source": []
  }
 ],
 "metadata": {
  "kernelspec": {
   "display_name": "Python 3 (ipykernel)",
   "language": "python",
   "name": "python3"
  },
  "language_info": {
   "codemirror_mode": {
    "name": "ipython",
    "version": 3
   },
   "file_extension": ".py",
   "mimetype": "text/x-python",
   "name": "python",
   "nbconvert_exporter": "python",
   "pygments_lexer": "ipython3",
   "version": "3.12.4"
  }
 },
 "nbformat": 4,
 "nbformat_minor": 5
}
