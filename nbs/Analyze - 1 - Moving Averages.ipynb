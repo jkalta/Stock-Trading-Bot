{
 "cells": [
  {
   "cell_type": "code",
   "execution_count": 1,
   "id": "306d7fb7-9ad6-43f9-9e65-2113b5f6912b",
   "metadata": {},
   "outputs": [],
   "source": [
    "import setup\n",
    "setup.init_django()"
   ]
  },
  {
   "cell_type": "code",
   "execution_count": 2,
   "id": "53febc3c-79f2-45fd-8825-9a566181d1f0",
   "metadata": {},
   "outputs": [],
   "source": [
    "from market.models import StockQuote"
   ]
  },
  {
   "cell_type": "code",
   "execution_count": 8,
   "id": "4eaf2504-f0a2-4d7b-b01b-edd0612ba09d",
   "metadata": {},
   "outputs": [],
   "source": [
    "from django.db.models import Avg, F, RowRange, Window\n",
    "from django.utils import timezone\n",
    "from datetime import timedelta\n",
    "from decimal import Decimal"
   ]
  },
  {
   "cell_type": "code",
   "execution_count": 13,
   "id": "8cdf893f-f60d-40a9-93c1-4bb30dbbd1f8",
   "metadata": {},
   "outputs": [
    {
     "data": {
      "text/plain": [
       "12741"
      ]
     },
     "execution_count": 13,
     "metadata": {},
     "output_type": "execute_result"
    }
   ],
   "source": [
    "days_ago = 30\n",
    "now = timezone.now()\n",
    "start_date = now - timedelta(days=30)\n",
    "end_date = now\n",
    "\n",
    "qs = StockQuote.objects.filter(time__range=(start_date, end_date))\n",
    "qs.count()"
   ]
  },
  {
   "cell_type": "code",
   "execution_count": 14,
   "id": "639c722e-f11f-4fae-82bf-ff9c9ff4a75f",
   "metadata": {},
   "outputs": [],
   "source": [
    "total = 0\n",
    "for obj in qs:\n",
    "    total += obj.close_price"
   ]
  },
  {
   "cell_type": "code",
   "execution_count": 15,
   "id": "2cd222b0-de52-44d3-bb39-db33c82dae76",
   "metadata": {},
   "outputs": [
    {
     "data": {
      "text/plain": [
       "Decimal('370.6656873322345184836355074')"
      ]
     },
     "execution_count": 15,
     "metadata": {},
     "output_type": "execute_result"
    }
   ],
   "source": [
    "total / qs.count()"
   ]
  },
  {
   "cell_type": "code",
   "execution_count": 16,
   "id": "9ce6fa5d-a834-440f-af6e-2b3c43269b0d",
   "metadata": {},
   "outputs": [
    {
     "data": {
      "text/plain": [
       "<QuerySet [{'company': 3, 'avg_price': Decimal('634.6686316516709512')}, {'company': 5, 'avg_price': Decimal('428.7963671246006390')}, {'company': 2, 'avg_price': Decimal('197.2389634726688103')}, {'company': 1, 'avg_price': Decimal('233.7022529064620832')}]>"
      ]
     },
     "execution_count": 16,
     "metadata": {},
     "output_type": "execute_result"
    }
   ],
   "source": [
    "qs.values('company').annotate(avg_price=Avg('close_price'))"
   ]
  },
  {
   "cell_type": "code",
   "execution_count": 19,
   "id": "4ffacf77-3c8c-4777-9cbe-1c9f1b99593b",
   "metadata": {},
   "outputs": [],
   "source": [
    "count = 5\n",
    "ticker = \"AAPL\"\n",
    "rolling_qs = list(qs.filter(company__ticker=ticker).order_by('-time')[:count])\n",
    "rolling_qs.reverse()"
   ]
  },
  {
   "cell_type": "code",
   "execution_count": 20,
   "id": "3da0892b-7370-40bf-a42c-716fae48c92c",
   "metadata": {},
   "outputs": [
    {
     "data": {
      "text/plain": [
       "[<StockQuote: StockQuote object (2921291)>,\n",
       " <StockQuote: StockQuote object (2921292)>,\n",
       " <StockQuote: StockQuote object (2921293)>,\n",
       " <StockQuote: StockQuote object (2921294)>,\n",
       " <StockQuote: StockQuote object (2921295)>]"
      ]
     },
     "execution_count": 20,
     "metadata": {},
     "output_type": "execute_result"
    }
   ],
   "source": [
    "rolling_qs"
   ]
  },
  {
   "cell_type": "code",
   "execution_count": 23,
   "id": "e27fc379-5cf2-460f-b748-b41ab23778f8",
   "metadata": {},
   "outputs": [
    {
     "name": "stdout",
     "output_type": "stream",
     "text": [
      "1 2921291 234.6501 234.6501\n",
      "2 2921292 234.2512 234.45065\n",
      "3 2921293 234.2700 234.3904333333333333333333333\n",
      "4 2921294 234.2400 234.352825\n",
      "5 2921295 233.9200 234.26626\n"
     ]
    }
   ],
   "source": [
    "total = 0\n",
    "for i, obj in enumerate(rolling_qs):\n",
    "    total += obj.close_price\n",
    "    avg = total / (i + 1)\n",
    "    print(i + 1, obj.id, obj.close_price, avg)"
   ]
  },
  {
   "cell_type": "code",
   "execution_count": 24,
   "id": "80e44d5f-c98a-4f5d-9a61-5fe36904aeab",
   "metadata": {},
   "outputs": [],
   "source": [
    "qs = StockQuote.objects.filter(company__ticker=ticker, time__range=(start_date, end_date))"
   ]
  },
  {
   "cell_type": "code",
   "execution_count": 27,
   "id": "ed139f00-0b00-44fc-b634-f0f26e10b498",
   "metadata": {},
   "outputs": [],
   "source": [
    "frame_start = -(count - 1)\n",
    "ma_val = qs.annotate(\n",
    "        ma=Window(\n",
    "            expression=Avg('close_price'),\n",
    "            order_by=F('time').asc(),\n",
    "            partition_by=[],\n",
    "            frame=RowRange(start=frame_start, end=0),\n",
    "        )\n",
    ").order_by('-time')"
   ]
  },
  {
   "cell_type": "code",
   "execution_count": 30,
   "id": "6b65e85e-3fba-440b-a5aa-c77767e3a3ec",
   "metadata": {},
   "outputs": [
    {
     "name": "stdout",
     "output_type": "stream",
     "text": [
      "2921295 233.9200 234.2662600000000000 2025-02-01 00:55:00+00:00\n",
      "2921294 234.2400 234.4076800000000000 2025-02-01 00:50:00+00:00\n",
      "2921293 234.2700 234.5044800000000000 2025-02-01 00:45:00+00:00\n",
      "2921292 234.2512 234.6104800000000000 2025-02-01 00:40:00+00:00\n",
      "2921291 234.6501 234.7302400000000000 2025-02-01 00:35:00+00:00\n"
     ]
    }
   ],
   "source": [
    "for obj in ma_val[:5]:\n",
    "    print(obj.id, obj.close_price, obj.ma, obj.time)"
   ]
  },
  {
   "cell_type": "code",
   "execution_count": 29,
   "id": "b2322300-d0a2-4ee2-848b-79df69bc76ba",
   "metadata": {},
   "outputs": [
    {
     "data": {
      "text/plain": [
       "(2921295,\n",
       " Decimal('233.9200'),\n",
       " Decimal('234.2662600000000000'),\n",
       " Decimal('234.7467450000000000'))"
      ]
     },
     "execution_count": 29,
     "metadata": {},
     "output_type": "execute_result"
    }
   ],
   "source": [
    "frame_start = -(count - 1)\n",
    "ma_vals = qs.annotate(\n",
    "        ma_5=Window(\n",
    "            expression=Avg('close_price'),\n",
    "            order_by=F('time').asc(),\n",
    "            partition_by=[],\n",
    "            frame=RowRange(start=-4, end=0),\n",
    "        ),\n",
    "        ma_20=Window(\n",
    "                expression=Avg('close_price'),\n",
    "                order_by=F('time').asc(),\n",
    "                partition_by=[],\n",
    "                frame=RowRange(start=-19, end=0),\n",
    "            )\n",
    ").order_by('-time').first()\n",
    "\n",
    "ma_vals.id, ma_vals.close_price, ma_vals.ma_5, ma_vals.ma_20"
   ]
  },
  {
   "cell_type": "code",
   "execution_count": null,
   "id": "ffcf2c23-cc54-4887-aa84-1abd21323b9f",
   "metadata": {},
   "outputs": [],
   "source": []
  }
 ],
 "metadata": {
  "kernelspec": {
   "display_name": "Python 3 (ipykernel)",
   "language": "python",
   "name": "python3"
  },
  "language_info": {
   "codemirror_mode": {
    "name": "ipython",
    "version": 3
   },
   "file_extension": ".py",
   "mimetype": "text/x-python",
   "name": "python",
   "nbconvert_exporter": "python",
   "pygments_lexer": "ipython3",
   "version": "3.12.4"
  }
 },
 "nbformat": 4,
 "nbformat_minor": 5
}
