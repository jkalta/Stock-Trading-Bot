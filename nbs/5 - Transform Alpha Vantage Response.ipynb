{
 "cells": [
  {
   "cell_type": "code",
   "execution_count": 1,
   "id": "f44e502a-ada6-4fbb-9b5a-872909f10a5e",
   "metadata": {},
   "outputs": [],
   "source": [
    "from decouple import config"
   ]
  },
  {
   "cell_type": "code",
   "execution_count": 2,
   "id": "caf91a3d-c715-44ec-81af-bdf3d00038a1",
   "metadata": {},
   "outputs": [],
   "source": [
    "assert config(\"ALPHA_VANTAGE_API_KEY\", default=None, cast=str) is not None"
   ]
  },
  {
   "cell_type": "code",
   "execution_count": 3,
   "id": "54ebd6f0-24cd-4a0e-9c10-792d601f80b3",
   "metadata": {},
   "outputs": [],
   "source": [
    "ALPHA_VANTAGE_API_KEY = config(\"ALPHA_VANTAGE_API_KEY\", default=None, cast=str)"
   ]
  },
  {
   "cell_type": "code",
   "execution_count": 4,
   "id": "2adac61b-6f24-48b4-95e1-fce177bbea96",
   "metadata": {},
   "outputs": [],
   "source": [
    "import requests\n",
    "\n",
    "# replace the \"demo\" apikey below with your own key from https://www.alphavantage.co/support/#api-key\n",
    "\n",
    "params = {\n",
    "    \"api_key\": ALPHA_VANTAGE_API_KEY,\n",
    "    \"ticker\": \"AAPL\",\n",
    "    \"function\": \"TIME_SERIES_INTRADAY\",\n",
    "}\n",
    "url = 'https://www.alphavantage.co/query?function={function}&symbol={ticker}&interval=5min&apikey={api_key}'.format(\n",
    "    **params\n",
    ")\n",
    "r = requests.get(url)\n",
    "data = r.json()"
   ]
  },
  {
   "cell_type": "code",
   "execution_count": 6,
   "id": "054b1e09-64b1-4ca6-a121-45ac239423ca",
   "metadata": {},
   "outputs": [
    {
     "data": {
      "text/plain": [
       "'Time Series (5min)'"
      ]
     },
     "execution_count": 6,
     "metadata": {},
     "output_type": "execute_result"
    }
   ],
   "source": [
    "dataset_key = [x for x in list(data.keys()) if not x.lower() == \"meta data\"][0]\n",
    "dataset_key"
   ]
  },
  {
   "cell_type": "code",
   "execution_count": 18,
   "id": "44a1b5a2-a43c-4f84-b942-aa2195920f8a",
   "metadata": {
    "scrolled": true
   },
   "outputs": [],
   "source": [
    "results = data[dataset_key]\n",
    "# for timestamp_str in results.keys():\n",
    "#     print(timestamp_str, results.get(timestamp_str))"
   ]
  },
  {
   "cell_type": "code",
   "execution_count": 19,
   "id": "7cfe9149-b544-426a-a916-13d7c339cbc7",
   "metadata": {},
   "outputs": [
    {
     "data": {
      "text/plain": [
       "'2025-01-30 19:55:00'"
      ]
     },
     "execution_count": 19,
     "metadata": {},
     "output_type": "execute_result"
    }
   ],
   "source": [
    "timestamp_str = list(results.keys())[0]\n",
    "timestamp_str"
   ]
  },
  {
   "cell_type": "code",
   "execution_count": 21,
   "id": "cee0f3f9-a910-4dfc-927d-66577bfba31e",
   "metadata": {},
   "outputs": [
    {
     "data": {
      "text/plain": [
       "{'1. open': '244.5600',\n",
       " '2. high': '244.9000',\n",
       " '3. low': '244.4501',\n",
       " '4. close': '244.7900',\n",
       " '5. volume': '52216'}"
      ]
     },
     "execution_count": 21,
     "metadata": {},
     "output_type": "execute_result"
    }
   ],
   "source": [
    "result_val = results.get(timestamp_str)\n",
    "result_val"
   ]
  },
  {
   "cell_type": "code",
   "execution_count": 30,
   "id": "b4319b20-89e0-4898-aa7a-329f67d3ee5a",
   "metadata": {},
   "outputs": [],
   "source": [
    "import pytz\n",
    "from datetime import datetime\n",
    "from decimal import Decimal\n",
    "\n",
    "def transfrom_alpha_vantage_result(timestamp_str, result):\n",
    "    # unix_timestamp = result.get('t') / 1000.0\n",
    "    # utc_timestamp = datetime.fromtimestamp(unix_timestamp, tz=pytz.timezone('UTC'))\n",
    "    timestamp_format = '%Y-%m-%d %H:%M:%S'\n",
    "    eastern = pytz.timezone(\"US/Eastern\")\n",
    "    utc = pytz.utc\n",
    "    timestamp = eastern.localize(datetime.strptime(timestamp_str, timestamp_format)).astimezone(utc)\n",
    "    return {\n",
    "        'open_price': Decimal(result['1. open']),\n",
    "        'close_price': Decimal(result['4. close']),\n",
    "        'high_price': Decimal(result['2. high']),\n",
    "        'low_price': Decimal(result['3. low']),\n",
    "        'number_of_trades': None,\n",
    "        'volume': int(result['5. volume']),\n",
    "        'volume_weighted_average': None,\n",
    "        'time': timestamp,\n",
    "    }"
   ]
  },
  {
   "cell_type": "code",
   "execution_count": 31,
   "id": "0cc6995e-b60a-47c5-9e1b-dbd22839a192",
   "metadata": {},
   "outputs": [
    {
     "data": {
      "text/plain": [
       "{'open_price': Decimal('244.5600'),\n",
       " 'close_price': Decimal('244.7900'),\n",
       " 'high_price': Decimal('244.9000'),\n",
       " 'low_price': Decimal('244.4501'),\n",
       " 'number_of_trades': None,\n",
       " 'volume': 52216,\n",
       " 'volume_weighted_average': None,\n",
       " 'time': datetime.datetime(2025, 1, 31, 0, 55, tzinfo=<UTC>)}"
      ]
     },
     "execution_count": 31,
     "metadata": {},
     "output_type": "execute_result"
    }
   ],
   "source": [
    "transfrom_alpha_vantage_result(timestamp_str, result_val)"
   ]
  },
  {
   "cell_type": "code",
   "execution_count": 32,
   "id": "ea35c6bc-d55d-4e6a-b9c6-e6227ddc5ef9",
   "metadata": {},
   "outputs": [
    {
     "name": "stdout",
     "output_type": "stream",
     "text": [
      "{'open_price': Decimal('244.5600'), 'close_price': Decimal('244.7900'), 'high_price': Decimal('244.9000'), 'low_price': Decimal('244.4501'), 'number_of_trades': None, 'volume': 52216, 'volume_weighted_average': None, 'time': datetime.datetime(2025, 1, 31, 0, 55, tzinfo=<UTC>)}\n",
      "{'open_price': Decimal('244.4300'), 'close_price': Decimal('244.5600'), 'high_price': Decimal('244.6567'), 'low_price': Decimal('244.2000'), 'number_of_trades': None, 'volume': 30082, 'volume_weighted_average': None, 'time': datetime.datetime(2025, 1, 31, 0, 50, tzinfo=<UTC>)}\n",
      "{'open_price': Decimal('244.2600'), 'close_price': Decimal('244.4800'), 'high_price': Decimal('244.4800'), 'low_price': Decimal('244.2000'), 'number_of_trades': None, 'volume': 15441, 'volume_weighted_average': None, 'time': datetime.datetime(2025, 1, 31, 0, 45, tzinfo=<UTC>)}\n",
      "{'open_price': Decimal('244.5000'), 'close_price': Decimal('244.2900'), 'high_price': Decimal('244.7500'), 'low_price': Decimal('244.2000'), 'number_of_trades': None, 'volume': 23133, 'volume_weighted_average': None, 'time': datetime.datetime(2025, 1, 31, 0, 40, tzinfo=<UTC>)}\n",
      "{'open_price': Decimal('244.2200'), 'close_price': Decimal('244.4220'), 'high_price': Decimal('244.5000'), 'low_price': Decimal('244.2100'), 'number_of_trades': None, 'volume': 17227, 'volume_weighted_average': None, 'time': datetime.datetime(2025, 1, 31, 0, 35, tzinfo=<UTC>)}\n",
      "{'open_price': Decimal('244.2500'), 'close_price': Decimal('244.2997'), 'high_price': Decimal('244.5000'), 'low_price': Decimal('244.1800'), 'number_of_trades': None, 'volume': 13408, 'volume_weighted_average': None, 'time': datetime.datetime(2025, 1, 31, 0, 30, tzinfo=<UTC>)}\n",
      "{'open_price': Decimal('244.4050'), 'close_price': Decimal('244.2440'), 'high_price': Decimal('244.5900'), 'low_price': Decimal('244.1700'), 'number_of_trades': None, 'volume': 8726, 'volume_weighted_average': None, 'time': datetime.datetime(2025, 1, 31, 0, 25, tzinfo=<UTC>)}\n",
      "{'open_price': Decimal('244.6685'), 'close_price': Decimal('244.2800'), 'high_price': Decimal('244.6685'), 'low_price': Decimal('244.1000'), 'number_of_trades': None, 'volume': 35645, 'volume_weighted_average': None, 'time': datetime.datetime(2025, 1, 31, 0, 20, tzinfo=<UTC>)}\n",
      "{'open_price': Decimal('244.6200'), 'close_price': Decimal('244.6500'), 'high_price': Decimal('244.8000'), 'low_price': Decimal('244.6000'), 'number_of_trades': None, 'volume': 18145, 'volume_weighted_average': None, 'time': datetime.datetime(2025, 1, 31, 0, 15, tzinfo=<UTC>)}\n",
      "{'open_price': Decimal('244.3700'), 'close_price': Decimal('244.6600'), 'high_price': Decimal('244.7500'), 'low_price': Decimal('244.3000'), 'number_of_trades': None, 'volume': 22802, 'volume_weighted_average': None, 'time': datetime.datetime(2025, 1, 31, 0, 10, tzinfo=<UTC>)}\n",
      "{'open_price': Decimal('244.6750'), 'close_price': Decimal('244.3800'), 'high_price': Decimal('244.7500'), 'low_price': Decimal('244.2100'), 'number_of_trades': None, 'volume': 20104, 'volume_weighted_average': None, 'time': datetime.datetime(2025, 1, 31, 0, 5, tzinfo=<UTC>)}\n",
      "{'open_price': Decimal('244.9500'), 'close_price': Decimal('244.6200'), 'high_price': Decimal('245.0000'), 'low_price': Decimal('244.6000'), 'number_of_trades': None, 'volume': 25707, 'volume_weighted_average': None, 'time': datetime.datetime(2025, 1, 31, 0, 0, tzinfo=<UTC>)}\n",
      "{'open_price': Decimal('244.6700'), 'close_price': Decimal('244.9050'), 'high_price': Decimal('245.0000'), 'low_price': Decimal('244.5100'), 'number_of_trades': None, 'volume': 70118, 'volume_weighted_average': None, 'time': datetime.datetime(2025, 1, 30, 23, 55, tzinfo=<UTC>)}\n",
      "{'open_price': Decimal('244.1600'), 'close_price': Decimal('244.5200'), 'high_price': Decimal('244.7000'), 'low_price': Decimal('244.1600'), 'number_of_trades': None, 'volume': 17734, 'volume_weighted_average': None, 'time': datetime.datetime(2025, 1, 30, 23, 50, tzinfo=<UTC>)}\n",
      "{'open_price': Decimal('244.1800'), 'close_price': Decimal('244.3300'), 'high_price': Decimal('244.4900'), 'low_price': Decimal('243.9000'), 'number_of_trades': None, 'volume': 33286, 'volume_weighted_average': None, 'time': datetime.datetime(2025, 1, 30, 23, 45, tzinfo=<UTC>)}\n",
      "{'open_price': Decimal('244.5700'), 'close_price': Decimal('244.2000'), 'high_price': Decimal('245.0000'), 'low_price': Decimal('244.0100'), 'number_of_trades': None, 'volume': 38814, 'volume_weighted_average': None, 'time': datetime.datetime(2025, 1, 30, 23, 40, tzinfo=<UTC>)}\n",
      "{'open_price': Decimal('244.2167'), 'close_price': Decimal('244.5450'), 'high_price': Decimal('244.7300'), 'low_price': Decimal('237.5900'), 'number_of_trades': None, 'volume': 64413, 'volume_weighted_average': None, 'time': datetime.datetime(2025, 1, 30, 23, 35, tzinfo=<UTC>)}\n",
      "{'open_price': Decimal('244.2900'), 'close_price': Decimal('244.1400'), 'high_price': Decimal('244.4000'), 'low_price': Decimal('243.5100'), 'number_of_trades': None, 'volume': 116820, 'volume_weighted_average': None, 'time': datetime.datetime(2025, 1, 30, 23, 30, tzinfo=<UTC>)}\n",
      "{'open_price': Decimal('244.5500'), 'close_price': Decimal('244.2500'), 'high_price': Decimal('244.6660'), 'low_price': Decimal('244.1200'), 'number_of_trades': None, 'volume': 60804, 'volume_weighted_average': None, 'time': datetime.datetime(2025, 1, 30, 23, 25, tzinfo=<UTC>)}\n",
      "{'open_price': Decimal('245.1100'), 'close_price': Decimal('244.5500'), 'high_price': Decimal('245.1500'), 'low_price': Decimal('244.5100'), 'number_of_trades': None, 'volume': 92065, 'volume_weighted_average': None, 'time': datetime.datetime(2025, 1, 30, 23, 20, tzinfo=<UTC>)}\n",
      "{'open_price': Decimal('245.9000'), 'close_price': Decimal('245.1900'), 'high_price': Decimal('245.9100'), 'low_price': Decimal('245.0100'), 'number_of_trades': None, 'volume': 82406, 'volume_weighted_average': None, 'time': datetime.datetime(2025, 1, 30, 23, 15, tzinfo=<UTC>)}\n",
      "{'open_price': Decimal('245.8200'), 'close_price': Decimal('245.8000'), 'high_price': Decimal('246.1000'), 'low_price': Decimal('245.5000'), 'number_of_trades': None, 'volume': 62205, 'volume_weighted_average': None, 'time': datetime.datetime(2025, 1, 30, 23, 10, tzinfo=<UTC>)}\n",
      "{'open_price': Decimal('244.5800'), 'close_price': Decimal('245.5801'), 'high_price': Decimal('246.2000'), 'low_price': Decimal('244.5800'), 'number_of_trades': None, 'volume': 145610, 'volume_weighted_average': None, 'time': datetime.datetime(2025, 1, 30, 23, 5, tzinfo=<UTC>)}\n",
      "{'open_price': Decimal('245.0300'), 'close_price': Decimal('244.7499'), 'high_price': Decimal('245.1900'), 'low_price': Decimal('244.2200'), 'number_of_trades': None, 'volume': 78697, 'volume_weighted_average': None, 'time': datetime.datetime(2025, 1, 30, 23, 0, tzinfo=<UTC>)}\n",
      "{'open_price': Decimal('245.2800'), 'close_price': Decimal('245.0300'), 'high_price': Decimal('245.5000'), 'low_price': Decimal('244.0500'), 'number_of_trades': None, 'volume': 161857, 'volume_weighted_average': None, 'time': datetime.datetime(2025, 1, 30, 22, 55, tzinfo=<UTC>)}\n",
      "{'open_price': Decimal('245.9100'), 'close_price': Decimal('245.2400'), 'high_price': Decimal('246.1158'), 'low_price': Decimal('244.7500'), 'number_of_trades': None, 'volume': 114582, 'volume_weighted_average': None, 'time': datetime.datetime(2025, 1, 30, 22, 50, tzinfo=<UTC>)}\n",
      "{'open_price': Decimal('245.4700'), 'close_price': Decimal('245.8100'), 'high_price': Decimal('246.8800'), 'low_price': Decimal('244.2400'), 'number_of_trades': None, 'volume': 340336, 'volume_weighted_average': None, 'time': datetime.datetime(2025, 1, 30, 22, 45, tzinfo=<UTC>)}\n",
      "{'open_price': Decimal('245.6200'), 'close_price': Decimal('245.4800'), 'high_price': Decimal('245.8617'), 'low_price': Decimal('245.2200'), 'number_of_trades': None, 'volume': 171958, 'volume_weighted_average': None, 'time': datetime.datetime(2025, 1, 30, 22, 40, tzinfo=<UTC>)}\n",
      "{'open_price': Decimal('245.6921'), 'close_price': Decimal('245.6000'), 'high_price': Decimal('246.0000'), 'low_price': Decimal('245.0000'), 'number_of_trades': None, 'volume': 253031, 'volume_weighted_average': None, 'time': datetime.datetime(2025, 1, 30, 22, 35, tzinfo=<UTC>)}\n",
      "{'open_price': Decimal('247.5700'), 'close_price': Decimal('245.7500'), 'high_price': Decimal('248.4000'), 'low_price': Decimal('237.5900'), 'number_of_trades': None, 'volume': 556552, 'volume_weighted_average': None, 'time': datetime.datetime(2025, 1, 30, 22, 30, tzinfo=<UTC>)}\n",
      "{'open_price': Decimal('245.6000'), 'close_price': Decimal('247.0101'), 'high_price': Decimal('247.8700'), 'low_price': Decimal('243.3300'), 'number_of_trades': None, 'volume': 895062, 'volume_weighted_average': None, 'time': datetime.datetime(2025, 1, 30, 22, 25, tzinfo=<UTC>)}\n",
      "{'open_price': Decimal('233.9800'), 'close_price': Decimal('245.8440'), 'high_price': Decimal('246.9900'), 'low_price': Decimal('233.0000'), 'number_of_trades': None, 'volume': 1967613, 'volume_weighted_average': None, 'time': datetime.datetime(2025, 1, 30, 22, 20, tzinfo=<UTC>)}\n",
      "{'open_price': Decimal('233.8000'), 'close_price': Decimal('234.0000'), 'high_price': Decimal('234.0300'), 'low_price': Decimal('233.3000'), 'number_of_trades': None, 'volume': 180383, 'volume_weighted_average': None, 'time': datetime.datetime(2025, 1, 30, 22, 15, tzinfo=<UTC>)}\n",
      "{'open_price': Decimal('233.8400'), 'close_price': Decimal('233.8900'), 'high_price': Decimal('234.7900'), 'low_price': Decimal('233.5900'), 'number_of_trades': None, 'volume': 135093, 'volume_weighted_average': None, 'time': datetime.datetime(2025, 1, 30, 22, 10, tzinfo=<UTC>)}\n",
      "{'open_price': Decimal('234.7500'), 'close_price': Decimal('233.7150'), 'high_price': Decimal('234.9500'), 'low_price': Decimal('232.9700'), 'number_of_trades': None, 'volume': 258296, 'volume_weighted_average': None, 'time': datetime.datetime(2025, 1, 30, 22, 5, tzinfo=<UTC>)}\n",
      "{'open_price': Decimal('233.9980'), 'close_price': Decimal('234.7500'), 'high_price': Decimal('235.0000'), 'low_price': Decimal('233.2700'), 'number_of_trades': None, 'volume': 372027, 'volume_weighted_average': None, 'time': datetime.datetime(2025, 1, 30, 22, 0, tzinfo=<UTC>)}\n",
      "{'open_price': Decimal('236.4900'), 'close_price': Decimal('234.0000'), 'high_price': Decimal('237.5900'), 'low_price': Decimal('233.5100'), 'number_of_trades': None, 'volume': 703939, 'volume_weighted_average': None, 'time': datetime.datetime(2025, 1, 30, 21, 55, tzinfo=<UTC>)}\n",
      "{'open_price': Decimal('236.6100'), 'close_price': Decimal('236.3700'), 'high_price': Decimal('237.5900'), 'low_price': Decimal('236.1200'), 'number_of_trades': None, 'volume': 253535, 'volume_weighted_average': None, 'time': datetime.datetime(2025, 1, 30, 21, 50, tzinfo=<UTC>)}\n",
      "{'open_price': Decimal('237.7000'), 'close_price': Decimal('236.6700'), 'high_price': Decimal('238.9900'), 'low_price': Decimal('236.1600'), 'number_of_trades': None, 'volume': 395133, 'volume_weighted_average': None, 'time': datetime.datetime(2025, 1, 30, 21, 45, tzinfo=<UTC>)}\n",
      "{'open_price': Decimal('237.2800'), 'close_price': Decimal('237.6500'), 'high_price': Decimal('237.9600'), 'low_price': Decimal('235.0100'), 'number_of_trades': None, 'volume': 617589, 'volume_weighted_average': None, 'time': datetime.datetime(2025, 1, 30, 21, 40, tzinfo=<UTC>)}\n",
      "{'open_price': Decimal('237.5906'), 'close_price': Decimal('237.2600'), 'high_price': Decimal('241.8000'), 'low_price': Decimal('236.2800'), 'number_of_trades': None, 'volume': 595092, 'volume_weighted_average': None, 'time': datetime.datetime(2025, 1, 30, 21, 35, tzinfo=<UTC>)}\n",
      "{'open_price': Decimal('238.4500'), 'close_price': Decimal('237.6983'), 'high_price': Decimal('245.4400'), 'low_price': Decimal('235.1400'), 'number_of_trades': None, 'volume': 1576178, 'volume_weighted_average': None, 'time': datetime.datetime(2025, 1, 30, 21, 30, tzinfo=<UTC>)}\n",
      "{'open_price': Decimal('238.3800'), 'close_price': Decimal('238.5500'), 'high_price': Decimal('238.5500'), 'low_price': Decimal('238.2070'), 'number_of_trades': None, 'volume': 61349, 'volume_weighted_average': None, 'time': datetime.datetime(2025, 1, 30, 21, 25, tzinfo=<UTC>)}\n",
      "{'open_price': Decimal('238.2600'), 'close_price': Decimal('238.3707'), 'high_price': Decimal('238.5000'), 'low_price': Decimal('238.2000'), 'number_of_trades': None, 'volume': 58232, 'volume_weighted_average': None, 'time': datetime.datetime(2025, 1, 30, 21, 20, tzinfo=<UTC>)}\n",
      "{'open_price': Decimal('237.5900'), 'close_price': Decimal('238.2600'), 'high_price': Decimal('238.4300'), 'low_price': Decimal('237.5900'), 'number_of_trades': None, 'volume': 43443, 'volume_weighted_average': None, 'time': datetime.datetime(2025, 1, 30, 21, 15, tzinfo=<UTC>)}\n",
      "{'open_price': Decimal('238.2200'), 'close_price': Decimal('238.2642'), 'high_price': Decimal('238.4800'), 'low_price': Decimal('237.5900'), 'number_of_trades': None, 'volume': 90066, 'volume_weighted_average': None, 'time': datetime.datetime(2025, 1, 30, 21, 10, tzinfo=<UTC>)}\n",
      "{'open_price': Decimal('237.6300'), 'close_price': Decimal('238.2500'), 'high_price': Decimal('238.4000'), 'low_price': Decimal('237.5600'), 'number_of_trades': None, 'volume': 125418, 'volume_weighted_average': None, 'time': datetime.datetime(2025, 1, 30, 21, 5, tzinfo=<UTC>)}\n",
      "{'open_price': Decimal('237.5300'), 'close_price': Decimal('237.6300'), 'high_price': Decimal('237.9800'), 'low_price': Decimal('237.1200'), 'number_of_trades': None, 'volume': 13023669, 'volume_weighted_average': None, 'time': datetime.datetime(2025, 1, 30, 21, 0, tzinfo=<UTC>)}\n",
      "{'open_price': Decimal('238.4600'), 'close_price': Decimal('237.5600'), 'high_price': Decimal('238.4800'), 'low_price': Decimal('237.2400'), 'number_of_trades': None, 'volume': 2496369, 'volume_weighted_average': None, 'time': datetime.datetime(2025, 1, 30, 20, 55, tzinfo=<UTC>)}\n",
      "{'open_price': Decimal('238.6900'), 'close_price': Decimal('238.4600'), 'high_price': Decimal('238.7500'), 'low_price': Decimal('237.8700'), 'number_of_trades': None, 'volume': 1082806, 'volume_weighted_average': None, 'time': datetime.datetime(2025, 1, 30, 20, 50, tzinfo=<UTC>)}\n",
      "{'open_price': Decimal('237.9200'), 'close_price': Decimal('238.6650'), 'high_price': Decimal('238.7300'), 'low_price': Decimal('237.7500'), 'number_of_trades': None, 'volume': 759602, 'volume_weighted_average': None, 'time': datetime.datetime(2025, 1, 30, 20, 45, tzinfo=<UTC>)}\n",
      "{'open_price': Decimal('238.6900'), 'close_price': Decimal('237.9700'), 'high_price': Decimal('238.6900'), 'low_price': Decimal('237.7500'), 'number_of_trades': None, 'volume': 1024436, 'volume_weighted_average': None, 'time': datetime.datetime(2025, 1, 30, 20, 40, tzinfo=<UTC>)}\n",
      "{'open_price': Decimal('239.8200'), 'close_price': Decimal('238.7005'), 'high_price': Decimal('239.8300'), 'low_price': Decimal('238.6600'), 'number_of_trades': None, 'volume': 904065, 'volume_weighted_average': None, 'time': datetime.datetime(2025, 1, 30, 20, 35, tzinfo=<UTC>)}\n",
      "{'open_price': Decimal('239.5800'), 'close_price': Decimal('239.8250'), 'high_price': Decimal('239.8550'), 'low_price': Decimal('239.5300'), 'number_of_trades': None, 'volume': 568842, 'volume_weighted_average': None, 'time': datetime.datetime(2025, 1, 30, 20, 30, tzinfo=<UTC>)}\n",
      "{'open_price': Decimal('239.7900'), 'close_price': Decimal('239.5800'), 'high_price': Decimal('239.8300'), 'low_price': Decimal('239.4550'), 'number_of_trades': None, 'volume': 499779, 'volume_weighted_average': None, 'time': datetime.datetime(2025, 1, 30, 20, 25, tzinfo=<UTC>)}\n",
      "{'open_price': Decimal('239.7350'), 'close_price': Decimal('239.8000'), 'high_price': Decimal('239.8400'), 'low_price': Decimal('239.6401'), 'number_of_trades': None, 'volume': 456904, 'volume_weighted_average': None, 'time': datetime.datetime(2025, 1, 30, 20, 20, tzinfo=<UTC>)}\n",
      "{'open_price': Decimal('239.8650'), 'close_price': Decimal('239.7350'), 'high_price': Decimal('239.9500'), 'low_price': Decimal('239.7000'), 'number_of_trades': None, 'volume': 428681, 'volume_weighted_average': None, 'time': datetime.datetime(2025, 1, 30, 20, 15, tzinfo=<UTC>)}\n",
      "{'open_price': Decimal('239.8100'), 'close_price': Decimal('239.8650'), 'high_price': Decimal('239.9200'), 'low_price': Decimal('239.7382'), 'number_of_trades': None, 'volume': 364138, 'volume_weighted_average': None, 'time': datetime.datetime(2025, 1, 30, 20, 10, tzinfo=<UTC>)}\n",
      "{'open_price': Decimal('239.8710'), 'close_price': Decimal('239.8000'), 'high_price': Decimal('239.9900'), 'low_price': Decimal('239.7021'), 'number_of_trades': None, 'volume': 449610, 'volume_weighted_average': None, 'time': datetime.datetime(2025, 1, 30, 20, 5, tzinfo=<UTC>)}\n",
      "{'open_price': Decimal('239.8650'), 'close_price': Decimal('239.8601'), 'high_price': Decimal('240.0600'), 'low_price': Decimal('239.8000'), 'number_of_trades': None, 'volume': 637997, 'volume_weighted_average': None, 'time': datetime.datetime(2025, 1, 30, 20, 0, tzinfo=<UTC>)}\n",
      "{'open_price': Decimal('239.4000'), 'close_price': Decimal('239.8610'), 'high_price': Decimal('239.8700'), 'low_price': Decimal('239.3700'), 'number_of_trades': None, 'volume': 456635, 'volume_weighted_average': None, 'time': datetime.datetime(2025, 1, 30, 19, 55, tzinfo=<UTC>)}\n",
      "{'open_price': Decimal('239.3300'), 'close_price': Decimal('239.4040'), 'high_price': Decimal('239.5000'), 'low_price': Decimal('239.2700'), 'number_of_trades': None, 'volume': 295073, 'volume_weighted_average': None, 'time': datetime.datetime(2025, 1, 30, 19, 50, tzinfo=<UTC>)}\n",
      "{'open_price': Decimal('239.5300'), 'close_price': Decimal('239.3200'), 'high_price': Decimal('239.5300'), 'low_price': Decimal('239.2700'), 'number_of_trades': None, 'volume': 281267, 'volume_weighted_average': None, 'time': datetime.datetime(2025, 1, 30, 19, 45, tzinfo=<UTC>)}\n",
      "{'open_price': Decimal('239.4900'), 'close_price': Decimal('239.5300'), 'high_price': Decimal('239.6300'), 'low_price': Decimal('239.4100'), 'number_of_trades': None, 'volume': 443330, 'volume_weighted_average': None, 'time': datetime.datetime(2025, 1, 30, 19, 40, tzinfo=<UTC>)}\n",
      "{'open_price': Decimal('239.2400'), 'close_price': Decimal('239.4800'), 'high_price': Decimal('239.4900'), 'low_price': Decimal('239.2400'), 'number_of_trades': None, 'volume': 211488, 'volume_weighted_average': None, 'time': datetime.datetime(2025, 1, 30, 19, 35, tzinfo=<UTC>)}\n",
      "{'open_price': Decimal('239.2500'), 'close_price': Decimal('239.2280'), 'high_price': Decimal('239.4800'), 'low_price': Decimal('239.2100'), 'number_of_trades': None, 'volume': 274088, 'volume_weighted_average': None, 'time': datetime.datetime(2025, 1, 30, 19, 30, tzinfo=<UTC>)}\n",
      "{'open_price': Decimal('239.2913'), 'close_price': Decimal('239.2500'), 'high_price': Decimal('239.3800'), 'low_price': Decimal('239.2100'), 'number_of_trades': None, 'volume': 245754, 'volume_weighted_average': None, 'time': datetime.datetime(2025, 1, 30, 19, 25, tzinfo=<UTC>)}\n",
      "{'open_price': Decimal('239.2350'), 'close_price': Decimal('239.2950'), 'high_price': Decimal('239.3600'), 'low_price': Decimal('239.1400'), 'number_of_trades': None, 'volume': 345902, 'volume_weighted_average': None, 'time': datetime.datetime(2025, 1, 30, 19, 20, tzinfo=<UTC>)}\n",
      "{'open_price': Decimal('239.2900'), 'close_price': Decimal('239.2200'), 'high_price': Decimal('239.4000'), 'low_price': Decimal('239.1700'), 'number_of_trades': None, 'volume': 253604, 'volume_weighted_average': None, 'time': datetime.datetime(2025, 1, 30, 19, 15, tzinfo=<UTC>)}\n",
      "{'open_price': Decimal('238.9900'), 'close_price': Decimal('239.2952'), 'high_price': Decimal('239.4057'), 'low_price': Decimal('238.9700'), 'number_of_trades': None, 'volume': 367511, 'volume_weighted_average': None, 'time': datetime.datetime(2025, 1, 30, 19, 10, tzinfo=<UTC>)}\n",
      "{'open_price': Decimal('239.1100'), 'close_price': Decimal('238.9900'), 'high_price': Decimal('239.2500'), 'low_price': Decimal('238.9310'), 'number_of_trades': None, 'volume': 284667, 'volume_weighted_average': None, 'time': datetime.datetime(2025, 1, 30, 19, 5, tzinfo=<UTC>)}\n",
      "{'open_price': Decimal('239.6490'), 'close_price': Decimal('239.1200'), 'high_price': Decimal('239.6490'), 'low_price': Decimal('239.0500'), 'number_of_trades': None, 'volume': 239393, 'volume_weighted_average': None, 'time': datetime.datetime(2025, 1, 30, 19, 0, tzinfo=<UTC>)}\n",
      "{'open_price': Decimal('239.3650'), 'close_price': Decimal('239.6450'), 'high_price': Decimal('239.6700'), 'low_price': Decimal('239.3050'), 'number_of_trades': None, 'volume': 326896, 'volume_weighted_average': None, 'time': datetime.datetime(2025, 1, 30, 18, 55, tzinfo=<UTC>)}\n",
      "{'open_price': Decimal('239.3200'), 'close_price': Decimal('239.3699'), 'high_price': Decimal('239.4299'), 'low_price': Decimal('239.1700'), 'number_of_trades': None, 'volume': 286168, 'volume_weighted_average': None, 'time': datetime.datetime(2025, 1, 30, 18, 50, tzinfo=<UTC>)}\n",
      "{'open_price': Decimal('239.1000'), 'close_price': Decimal('239.3200'), 'high_price': Decimal('239.3400'), 'low_price': Decimal('239.0800'), 'number_of_trades': None, 'volume': 250115, 'volume_weighted_average': None, 'time': datetime.datetime(2025, 1, 30, 18, 45, tzinfo=<UTC>)}\n",
      "{'open_price': Decimal('238.8400'), 'close_price': Decimal('239.0900'), 'high_price': Decimal('239.2200'), 'low_price': Decimal('238.8201'), 'number_of_trades': None, 'volume': 335890, 'volume_weighted_average': None, 'time': datetime.datetime(2025, 1, 30, 18, 40, tzinfo=<UTC>)}\n",
      "{'open_price': Decimal('238.7070'), 'close_price': Decimal('238.8500'), 'high_price': Decimal('238.8500'), 'low_price': Decimal('238.6250'), 'number_of_trades': None, 'volume': 227943, 'volume_weighted_average': None, 'time': datetime.datetime(2025, 1, 30, 18, 35, tzinfo=<UTC>)}\n",
      "{'open_price': Decimal('238.4400'), 'close_price': Decimal('238.7034'), 'high_price': Decimal('238.7200'), 'low_price': Decimal('238.4400'), 'number_of_trades': None, 'volume': 196368, 'volume_weighted_average': None, 'time': datetime.datetime(2025, 1, 30, 18, 30, tzinfo=<UTC>)}\n",
      "{'open_price': Decimal('238.4200'), 'close_price': Decimal('238.4500'), 'high_price': Decimal('238.5300'), 'low_price': Decimal('238.2900'), 'number_of_trades': None, 'volume': 159200, 'volume_weighted_average': None, 'time': datetime.datetime(2025, 1, 30, 18, 25, tzinfo=<UTC>)}\n",
      "{'open_price': Decimal('238.4500'), 'close_price': Decimal('238.4300'), 'high_price': Decimal('238.5250'), 'low_price': Decimal('238.3100'), 'number_of_trades': None, 'volume': 239888, 'volume_weighted_average': None, 'time': datetime.datetime(2025, 1, 30, 18, 20, tzinfo=<UTC>)}\n",
      "{'open_price': Decimal('238.5200'), 'close_price': Decimal('238.4400'), 'high_price': Decimal('238.5500'), 'low_price': Decimal('238.3850'), 'number_of_trades': None, 'volume': 238572, 'volume_weighted_average': None, 'time': datetime.datetime(2025, 1, 30, 18, 15, tzinfo=<UTC>)}\n",
      "{'open_price': Decimal('238.6800'), 'close_price': Decimal('238.5002'), 'high_price': Decimal('238.6800'), 'low_price': Decimal('238.4500'), 'number_of_trades': None, 'volume': 232407, 'volume_weighted_average': None, 'time': datetime.datetime(2025, 1, 30, 18, 10, tzinfo=<UTC>)}\n",
      "{'open_price': Decimal('238.6700'), 'close_price': Decimal('238.6800'), 'high_price': Decimal('238.7686'), 'low_price': Decimal('238.5800'), 'number_of_trades': None, 'volume': 246658, 'volume_weighted_average': None, 'time': datetime.datetime(2025, 1, 30, 18, 5, tzinfo=<UTC>)}\n",
      "{'open_price': Decimal('238.3900'), 'close_price': Decimal('238.6800'), 'high_price': Decimal('238.6800'), 'low_price': Decimal('238.3700'), 'number_of_trades': None, 'volume': 209071, 'volume_weighted_average': None, 'time': datetime.datetime(2025, 1, 30, 18, 0, tzinfo=<UTC>)}\n",
      "{'open_price': Decimal('238.2903'), 'close_price': Decimal('238.3950'), 'high_price': Decimal('238.4500'), 'low_price': Decimal('238.2100'), 'number_of_trades': None, 'volume': 204439, 'volume_weighted_average': None, 'time': datetime.datetime(2025, 1, 30, 17, 55, tzinfo=<UTC>)}\n",
      "{'open_price': Decimal('238.4250'), 'close_price': Decimal('238.3100'), 'high_price': Decimal('238.5500'), 'low_price': Decimal('238.2700'), 'number_of_trades': None, 'volume': 192764, 'volume_weighted_average': None, 'time': datetime.datetime(2025, 1, 30, 17, 50, tzinfo=<UTC>)}\n",
      "{'open_price': Decimal('238.0400'), 'close_price': Decimal('238.4300'), 'high_price': Decimal('238.4388'), 'low_price': Decimal('238.0400'), 'number_of_trades': None, 'volume': 185019, 'volume_weighted_average': None, 'time': datetime.datetime(2025, 1, 30, 17, 45, tzinfo=<UTC>)}\n",
      "{'open_price': Decimal('238.0000'), 'close_price': Decimal('238.0500'), 'high_price': Decimal('238.3200'), 'low_price': Decimal('237.9300'), 'number_of_trades': None, 'volume': 351400, 'volume_weighted_average': None, 'time': datetime.datetime(2025, 1, 30, 17, 40, tzinfo=<UTC>)}\n",
      "{'open_price': Decimal('238.0601'), 'close_price': Decimal('238.0050'), 'high_price': Decimal('238.1500'), 'low_price': Decimal('237.9200'), 'number_of_trades': None, 'volume': 211060, 'volume_weighted_average': None, 'time': datetime.datetime(2025, 1, 30, 17, 35, tzinfo=<UTC>)}\n",
      "{'open_price': Decimal('238.0300'), 'close_price': Decimal('238.0800'), 'high_price': Decimal('238.0900'), 'low_price': Decimal('237.9050'), 'number_of_trades': None, 'volume': 213604, 'volume_weighted_average': None, 'time': datetime.datetime(2025, 1, 30, 17, 30, tzinfo=<UTC>)}\n",
      "{'open_price': Decimal('238.0200'), 'close_price': Decimal('238.0252'), 'high_price': Decimal('238.1300'), 'low_price': Decimal('237.8100'), 'number_of_trades': None, 'volume': 226657, 'volume_weighted_average': None, 'time': datetime.datetime(2025, 1, 30, 17, 25, tzinfo=<UTC>)}\n",
      "{'open_price': Decimal('238.2600'), 'close_price': Decimal('238.0002'), 'high_price': Decimal('238.3500'), 'low_price': Decimal('237.9700'), 'number_of_trades': None, 'volume': 301364, 'volume_weighted_average': None, 'time': datetime.datetime(2025, 1, 30, 17, 20, tzinfo=<UTC>)}\n",
      "{'open_price': Decimal('238.5300'), 'close_price': Decimal('238.2696'), 'high_price': Decimal('238.6000'), 'low_price': Decimal('238.2200'), 'number_of_trades': None, 'volume': 219183, 'volume_weighted_average': None, 'time': datetime.datetime(2025, 1, 30, 17, 15, tzinfo=<UTC>)}\n",
      "{'open_price': Decimal('238.4700'), 'close_price': Decimal('238.5300'), 'high_price': Decimal('238.6700'), 'low_price': Decimal('238.4350'), 'number_of_trades': None, 'volume': 278085, 'volume_weighted_average': None, 'time': datetime.datetime(2025, 1, 30, 17, 10, tzinfo=<UTC>)}\n",
      "{'open_price': Decimal('238.3700'), 'close_price': Decimal('238.4601'), 'high_price': Decimal('238.6000'), 'low_price': Decimal('238.1500'), 'number_of_trades': None, 'volume': 279516, 'volume_weighted_average': None, 'time': datetime.datetime(2025, 1, 30, 17, 5, tzinfo=<UTC>)}\n",
      "{'open_price': Decimal('238.8000'), 'close_price': Decimal('238.3500'), 'high_price': Decimal('238.8800'), 'low_price': Decimal('238.3300'), 'number_of_trades': None, 'volume': 359253, 'volume_weighted_average': None, 'time': datetime.datetime(2025, 1, 30, 17, 0, tzinfo=<UTC>)}\n",
      "{'open_price': Decimal('238.6800'), 'close_price': Decimal('238.7800'), 'high_price': Decimal('238.8400'), 'low_price': Decimal('238.6500'), 'number_of_trades': None, 'volume': 276427, 'volume_weighted_average': None, 'time': datetime.datetime(2025, 1, 30, 16, 55, tzinfo=<UTC>)}\n",
      "{'open_price': Decimal('238.1600'), 'close_price': Decimal('238.6610'), 'high_price': Decimal('238.6900'), 'low_price': Decimal('238.1600'), 'number_of_trades': None, 'volume': 250885, 'volume_weighted_average': None, 'time': datetime.datetime(2025, 1, 30, 16, 50, tzinfo=<UTC>)}\n",
      "{'open_price': Decimal('238.0600'), 'close_price': Decimal('238.1600'), 'high_price': Decimal('238.3399'), 'low_price': Decimal('238.0600'), 'number_of_trades': None, 'volume': 262830, 'volume_weighted_average': None, 'time': datetime.datetime(2025, 1, 30, 16, 45, tzinfo=<UTC>)}\n",
      "{'open_price': Decimal('238.3310'), 'close_price': Decimal('238.0650'), 'high_price': Decimal('238.3600'), 'low_price': Decimal('238.0100'), 'number_of_trades': None, 'volume': 217508, 'volume_weighted_average': None, 'time': datetime.datetime(2025, 1, 30, 16, 40, tzinfo=<UTC>)}\n"
     ]
    }
   ],
   "source": [
    "for timestamp_str in results.keys():\n",
    "    new_data = transfrom_alpha_vantage_result(timestamp_str, results.get(timestamp_str))\n",
    "    print(new_data)"
   ]
  },
  {
   "cell_type": "code",
   "execution_count": null,
   "id": "410881de-c068-43e7-b26c-dc95bfbd09a7",
   "metadata": {},
   "outputs": [],
   "source": []
  }
 ],
 "metadata": {
  "kernelspec": {
   "display_name": "Python 3 (ipykernel)",
   "language": "python",
   "name": "python3"
  },
  "language_info": {
   "codemirror_mode": {
    "name": "ipython",
    "version": 3
   },
   "file_extension": ".py",
   "mimetype": "text/x-python",
   "name": "python",
   "nbconvert_exporter": "python",
   "pygments_lexer": "ipython3",
   "version": "3.12.4"
  }
 },
 "nbformat": 4,
 "nbformat_minor": 5
}
